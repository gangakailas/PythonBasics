{
  "nbformat": 4,
  "nbformat_minor": 0,
  "metadata": {
    "colab": {
      "provenance": [],
      "authorship_tag": "ABX9TyO7Hn/rS8YBF0WzyzvqgIu4",
      "include_colab_link": true
    },
    "kernelspec": {
      "name": "python3",
      "display_name": "Python 3"
    },
    "language_info": {
      "name": "python"
    }
  },
  "cells": [
    {
      "cell_type": "markdown",
      "metadata": {
        "id": "view-in-github",
        "colab_type": "text"
      },
      "source": [
        "<a href=\"https://colab.research.google.com/github/gangakailas/PythonBasics/blob/main/basics1.ipynb\" target=\"_parent\"><img src=\"https://colab.research.google.com/assets/colab-badge.svg\" alt=\"Open In Colab\"/></a>"
      ]
    },
    {
      "cell_type": "code",
      "execution_count": null,
      "metadata": {
        "colab": {
          "base_uri": "https://localhost:8080/"
        },
        "id": "eYwlnE2Hbl-Z",
        "outputId": "026b0e72-1e24-4e93-fea4-64827437049f"
      },
      "outputs": [
        {
          "output_type": "stream",
          "name": "stdout",
          "text": [
            "hello world\n"
          ]
        }
      ],
      "source": [
        "print('hello world')"
      ]
    },
    {
      "cell_type": "code",
      "source": [
        "a=5\n",
        "print(a)\n",
        "print(type(a))"
      ],
      "metadata": {
        "colab": {
          "base_uri": "https://localhost:8080/"
        },
        "id": "LXYVIIYscYUa",
        "outputId": "5aac5628-7342-452f-d06d-24c96c541d2a"
      },
      "execution_count": null,
      "outputs": [
        {
          "output_type": "stream",
          "name": "stdout",
          "text": [
            "5\n",
            "<class 'int'>\n"
          ]
        }
      ]
    },
    {
      "cell_type": "code",
      "source": [
        "p=3.7\n",
        "print(p)\n",
        "print(type(p))\n"
      ],
      "metadata": {
        "colab": {
          "base_uri": "https://localhost:8080/"
        },
        "id": "5wkSjVC5cxI9",
        "outputId": "c9455e24-63f6-4ea6-edbe-e109bb53387e"
      },
      "execution_count": null,
      "outputs": [
        {
          "output_type": "stream",
          "name": "stdout",
          "text": [
            "3.7\n",
            "<class 'float'>\n"
          ]
        }
      ]
    },
    {
      "cell_type": "code",
      "source": [
        "n=True\n",
        "print(n)\n",
        "print(type(n))"
      ],
      "metadata": {
        "colab": {
          "base_uri": "https://localhost:8080/"
        },
        "id": "6nAi8fjvdC3V",
        "outputId": "698f36dc-27cf-464a-e49b-446e0615d27b"
      },
      "execution_count": null,
      "outputs": [
        {
          "output_type": "stream",
          "name": "stdout",
          "text": [
            "True\n",
            "<class 'bool'>\n"
          ]
        }
      ]
    },
    {
      "cell_type": "code",
      "source": [
        "f=4+7j\n",
        "print(f)\n",
        "print(type(f))"
      ],
      "metadata": {
        "colab": {
          "base_uri": "https://localhost:8080/"
        },
        "id": "kW2m_HT4dWes",
        "outputId": "febca197-f536-4291-be76-9187a819d1dd"
      },
      "execution_count": null,
      "outputs": [
        {
          "output_type": "stream",
          "name": "stdout",
          "text": [
            "(4+7j)\n",
            "<class 'complex'>\n"
          ]
        }
      ]
    },
    {
      "cell_type": "code",
      "source": [
        "h=\"hello\"\n",
        "print(h)\n",
        "print(type(h))"
      ],
      "metadata": {
        "colab": {
          "base_uri": "https://localhost:8080/"
        },
        "id": "5TGFqTQadsAs",
        "outputId": "4831e753-f5ef-41e1-d7f7-a66c3474ed2e"
      },
      "execution_count": null,
      "outputs": [
        {
          "output_type": "stream",
          "name": "stdout",
          "text": [
            "hello\n",
            "<class 'str'>\n"
          ]
        }
      ]
    },
    {
      "cell_type": "code",
      "source": [
        "\n",
        "a=5\n",
        "b=3\n",
        "\n",
        "ab_sum=a+b\n",
        "print(ab_sum)\n",
        "\n",
        "ab_dif=a-b\n",
        "print(ab_dif)\n",
        "\n",
        "ab_pro=a*b\n",
        "print(ab_pro)\n",
        "\n",
        "ab_div=a/b\n",
        "print(ab_div)\n",
        "\n",
        "ab_quo=a//b\n",
        "print(ab_quo)\n",
        "\n",
        "ab_rem=a%b\n",
        "print(ab_rem)\n",
        "\n",
        "ab_pow=a**b\n",
        "print(ab_pow)\n"
      ],
      "metadata": {
        "colab": {
          "base_uri": "https://localhost:8080/"
        },
        "id": "IHaKVM_EesB8",
        "outputId": "6e37cf3c-08de-4ebb-fd40-f3db40d8b3c9"
      },
      "execution_count": null,
      "outputs": [
        {
          "output_type": "stream",
          "name": "stdout",
          "text": [
            "8\n",
            "2\n",
            "15\n",
            "1.6666666666666667\n",
            "1\n",
            "2\n",
            "125\n"
          ]
        }
      ]
    },
    {
      "cell_type": "code",
      "source": [
        "u=5\n",
        "v=4\n",
        "w=3\n",
        "sum=u+v+w\n",
        "avg=sum/3\n",
        "print(avg)"
      ],
      "metadata": {
        "colab": {
          "base_uri": "https://localhost:8080/"
        },
        "id": "B9ePN4i1nmPC",
        "outputId": "1fa9711d-be9b-4513-dc9f-f8a20dacb113"
      },
      "execution_count": null,
      "outputs": [
        {
          "output_type": "stream",
          "name": "stdout",
          "text": [
            "4.0\n"
          ]
        }
      ]
    },
    {
      "cell_type": "code",
      "source": [
        "#To find average of any three numbers\n",
        "e=int(input(\"Enter first number\"))\n",
        "f=int(input(\"Enter second number\"))\n",
        "g=int(input(\"Enter third number\"))\n",
        "sum1=e+f+g\n",
        "avg1=sum1/3\n",
        "print(\"average value is=\",avg1)"
      ],
      "metadata": {
        "colab": {
          "base_uri": "https://localhost:8080/"
        },
        "id": "y5bxKwwwoINU",
        "outputId": "3daeab84-cbd5-40aa-f4a9-7ae062e34ae5"
      },
      "execution_count": null,
      "outputs": [
        {
          "output_type": "stream",
          "name": "stdout",
          "text": [
            "Enter first number12\n",
            "Enter second number9\n",
            "Enter third number3\n",
            "average value is= 8.0\n"
          ]
        }
      ]
    },
    {
      "cell_type": "code",
      "source": [
        "#to find the perimeter and area of a triangle \n",
        "import math\n",
        "a=int(input(\"Enter side1 of triangle= \"))\n",
        "b=int(input(\"Enter side2 of triangle= \"))\n",
        "c=int(input(\"Enter side3 of triangle= \"))\n",
        "p=a+b+c\n",
        "print(\"Perimeter of the triangle is=\" ,p)\n",
        "s=p/2\n",
        "x=s*(s-a)*(s-b)*(s-c)\n",
        "area=math.sqrt(x)\n",
        "print(\"The area of the triangle= \" , area)\n"
      ],
      "metadata": {
        "colab": {
          "base_uri": "https://localhost:8080/"
        },
        "id": "cUwo10Hysy7G",
        "outputId": "e8225423-2397-49da-ec92-abee3ed602ec"
      },
      "execution_count": null,
      "outputs": [
        {
          "output_type": "stream",
          "name": "stdout",
          "text": [
            "Enter side1 of triangle= 11\n",
            "Enter side2 of triangle= 12\n",
            "Enter side3 of triangle= 13\n",
            "Perimeter of the triangle is= 36\n",
            "The area of the triangle=  61.48170459575759\n"
          ]
        }
      ]
    },
    {
      "cell_type": "code",
      "source": [
        "#to find sum of two numbers\n",
        "a=int(input(\"Enter first number= \"))\n",
        "b=int(input(\"Enter second number= \"))\n",
        "c=a+b\n",
        "print(\"Sum of the two numbers is= \", c)"
      ],
      "metadata": {
        "colab": {
          "base_uri": "https://localhost:8080/"
        },
        "id": "I2yyrEOitsZi",
        "outputId": "278eb122-3ea1-44e0-e97c-ddb69240a1d4"
      },
      "execution_count": null,
      "outputs": [
        {
          "output_type": "stream",
          "name": "stdout",
          "text": [
            "Enter first number= 7\n",
            "Enter second number= 10\n",
            "Sum of the two numbers is=  17\n"
          ]
        }
      ]
    },
    {
      "cell_type": "code",
      "source": [
        "#seconds to hours minutes and seconds\n",
        "s=int(input(\"Enter time in seconds= \"))\n",
        "h=s//3600\n",
        "r1=s%3600\n",
        "m=r1//60\n",
        "s1=m%60\n",
        "print(s,\"seconds= \",h,\" hours \",m, \" minutes \",s1,\" seconds\")\n"
      ],
      "metadata": {
        "colab": {
          "base_uri": "https://localhost:8080/"
        },
        "id": "GPhKpMLczKFD",
        "outputId": "69a41031-b3a3-4b5a-920c-897a27ae5634"
      },
      "execution_count": null,
      "outputs": [
        {
          "output_type": "stream",
          "name": "stdout",
          "text": [
            "Enter time in seconds= 12055\n",
            "12055 seconds=  3  hours  20  minutes  20  seconds\n"
          ]
        }
      ]
    },
    {
      "cell_type": "code",
      "source": [
        "m=int(input(\"Enter first number= \"))\n",
        "n=int(input(\"Enter second number= \"))\n",
        "step=int(input(\"Enter steps= \"))\n",
        "\n",
        "i=m\n",
        "while i<=n:\n",
        "  print (i)\n",
        "  i=i+step"
      ],
      "metadata": {
        "colab": {
          "base_uri": "https://localhost:8080/"
        },
        "id": "Iw9umGvq4wgk",
        "outputId": "1032eaf1-f3fd-4fe6-c404-0e2aa5ee177f"
      },
      "execution_count": null,
      "outputs": [
        {
          "output_type": "stream",
          "name": "stdout",
          "text": [
            "Enter first number= 10\n",
            "Enter second number= 30\n",
            "Enter steps= 3\n",
            "10\n",
            "13\n",
            "16\n",
            "19\n",
            "22\n",
            "25\n",
            "28\n"
          ]
        }
      ]
    },
    {
      "cell_type": "code",
      "source": [
        "c=0\n",
        "n=int(input(\"Enter a number= \"))\n",
        "f=2\n",
        "while f<=n//2:\n",
        "  if n%f==0:\n",
        "    c=c+1\n",
        "    break\n",
        "  f=f+1\n",
        "if c==0:\n",
        "  print(\"no. is prime\")\n",
        "else:\n",
        "  print(\"no. is not prime\")  "
      ],
      "metadata": {
        "colab": {
          "base_uri": "https://localhost:8080/"
        },
        "id": "8Sn7Kwxc63T0",
        "outputId": "b90b1e82-d8e7-4747-c784-5b8c0a2e96c3"
      },
      "execution_count": null,
      "outputs": [
        {
          "output_type": "stream",
          "name": "stdout",
          "text": [
            "Enter a number= 17\n",
            "no. is prime\n"
          ]
        }
      ]
    },
    {
      "cell_type": "code",
      "source": [
        "for i in range(5):\n",
        "  print(i)\n"
      ],
      "metadata": {
        "colab": {
          "base_uri": "https://localhost:8080/"
        },
        "id": "fiS_RJt5DSk0",
        "outputId": "e790665e-1406-440b-959f-3b2bf6006664"
      },
      "execution_count": null,
      "outputs": [
        {
          "output_type": "stream",
          "name": "stdout",
          "text": [
            "0\n",
            "1\n",
            "2\n",
            "3\n",
            "4\n"
          ]
        }
      ]
    }
  ]
}