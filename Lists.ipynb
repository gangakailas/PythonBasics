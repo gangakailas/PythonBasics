{
  "nbformat": 4,
  "nbformat_minor": 0,
  "metadata": {
    "colab": {
      "provenance": [],
      "authorship_tag": "ABX9TyMwbHpAjNKlfv/YM0tYI3lt",
      "include_colab_link": true
    },
    "kernelspec": {
      "name": "python3",
      "display_name": "Python 3"
    },
    "language_info": {
      "name": "python"
    }
  },
  "cells": [
    {
      "cell_type": "markdown",
      "metadata": {
        "id": "view-in-github",
        "colab_type": "text"
      },
      "source": [
        "<a href=\"https://colab.research.google.com/github/gangakailas/PythonBasics/blob/main/Lists.ipynb\" target=\"_parent\"><img src=\"https://colab.research.google.com/assets/colab-badge.svg\" alt=\"Open In Colab\"/></a>"
      ]
    },
    {
      "cell_type": "markdown",
      "source": [
        "***list operations***"
      ],
      "metadata": {
        "id": "L5RFK4ordSKR"
      }
    },
    {
      "cell_type": "code",
      "source": [
        "#reversing a list\n",
        "list1=[]\n",
        "x=int(input(\"Enter the no. of terms= \"))\n",
        "while x>0:\n",
        "  l=int(input(\"Enter the elements= \"))\n",
        "  list1.append(l)\n",
        "  x=x-1\n",
        "\n",
        "print(\"Initial list= \",list1)\n",
        "list1.reverse()\n",
        "print(\"List after reversing= \",list1)"
      ],
      "metadata": {
        "colab": {
          "base_uri": "https://localhost:8080/"
        },
        "id": "ehw00TmDdfz8",
        "outputId": "2b984503-4eb4-438c-a599-5813c54af44b"
      },
      "execution_count": null,
      "outputs": [
        {
          "output_type": "stream",
          "name": "stdout",
          "text": [
            "Enter the no. of terms= 7\n",
            "Enter the elements= 36\n",
            "Enter the elements= 12\n",
            "Enter the elements= 60\n",
            "Enter the elements= 27\n",
            "Enter the elements= 43\n",
            "Enter the elements= 11\n",
            "Enter the elements= 88\n",
            "Initial list=  [36, 12, 60, 27, 43, 11, 88]\n",
            "List after reversing=  [88, 11, 43, 27, 60, 12, 36]\n"
          ]
        }
      ]
    },
    {
      "cell_type": "code",
      "source": [
        "#concat two lists index-wise\n",
        "list1=[]\n",
        "list2=[]\n",
        "list3=[]\n",
        "x=int(input(\"Enter the no. of terms(list1)= \"))\n",
        "y=x\n",
        "x1=x\n",
        "while x>0:\n",
        "  num=str(input (\"Enter the elements of list1= \"))\n",
        "  list1.append(num)\n",
        "  x=x-1\n",
        "print(\"First list= \",list1)\n",
        "\n",
        "while y>0:\n",
        "  num1=str(input (\"Enter the elements of list2= \"))\n",
        "  list2.append(num1)\n",
        "  y=y-1\n",
        "print(\"Second list= \",list2)\n",
        "\n",
        "for i in range(0,x1):\n",
        "  list3.append(list1[i]+list2[i])\n",
        "\n",
        "print(\"The final list= \",list3)\n",
        "\n"
      ],
      "metadata": {
        "colab": {
          "base_uri": "https://localhost:8080/"
        },
        "id": "BE0RytYfgpfW",
        "outputId": "d01bcad1-4ee8-4be2-a7a7-2306034b97c2"
      },
      "execution_count": null,
      "outputs": [
        {
          "output_type": "stream",
          "name": "stdout",
          "text": [
            "Enter the no. of terms(list1)= 3\n",
            "Enter the elements of list1= 1\n",
            "Enter the elements of list1= 2\n",
            "Enter the elements of list1= 3\n",
            "First list=  ['1', '2', '3']\n",
            "Enter the elements of list2= 3\n",
            "Enter the elements of list2= 4\n",
            "Enter the elements of list2= 5\n",
            "Second list=  ['3', '4', '5']\n",
            "The final list=  ['13', '24', '35']\n"
          ]
        }
      ]
    },
    {
      "cell_type": "code",
      "source": [
        "#find the square of items in a list with values from 1 to 10\n",
        "list1=[1, 2, 3, 4, 5, 6, 7, 8, 9, 10]\n",
        "list2=[]\n",
        "for i in list1:\n",
        "  list2.append(i*i)\n",
        "\n",
        "print(\"Initial list= \", list1)\n",
        "print(\"Final list= \", list2)"
      ],
      "metadata": {
        "colab": {
          "base_uri": "https://localhost:8080/"
        },
        "id": "6dFaAfFOrFoj",
        "outputId": "337033de-562a-4d4a-ff3c-e73b7f6c18ee"
      },
      "execution_count": null,
      "outputs": [
        {
          "output_type": "stream",
          "name": "stdout",
          "text": [
            "Initial list=  [1, 2, 3, 4, 5, 6, 7, 8, 9, 10]\n",
            "Final list=  [1, 4, 9, 16, 25, 36, 49, 64, 81, 100]\n"
          ]
        }
      ]
    },
    {
      "cell_type": "code",
      "source": [
        "#remove empty string from a list of strings\n",
        "mylist=[\"do\", \"the\", \"\", \"right\", \"things\"]\n",
        "print(\"Initial list= \", mylist)\n",
        "\n",
        "for i in mylist:\n",
        "  if i==\"\":\n",
        "    mylist.remove(i)\n",
        "\n",
        "print(\"Final list= \", mylist)"
      ],
      "metadata": {
        "colab": {
          "base_uri": "https://localhost:8080/"
        },
        "id": "McboyP9YsOpm",
        "outputId": "9912586e-c290-4c3f-9562-b69ae0e18351"
      },
      "execution_count": null,
      "outputs": [
        {
          "output_type": "stream",
          "name": "stdout",
          "text": [
            "Initial list=  ['do', 'the', '', 'right', 'things']\n",
            "Final list=  ['do', 'the', 'right', 'things']\n"
          ]
        }
      ]
    },
    {
      "cell_type": "code",
      "source": [
        "#find a particular item in a list, and if present replace it with its square value\n",
        "mylist=[2, 4, 12, 9, 7, 4]\n",
        "x=int(input(\"Enter the value to be searched= \"))\n",
        "\n",
        "if x not in mylist:\n",
        "  print(\"The entered value is absent in the list\")\n",
        "else:\n",
        "  print(\"List before operation= \", mylist)\n",
        "  for i in range(len(mylist)):\n",
        "    if mylist[i]==x:\n",
        "      mylist[i]=x*x\n",
        "      break\n",
        "\n",
        "print(\"List after operation=\", mylist)\n"
      ],
      "metadata": {
        "colab": {
          "base_uri": "https://localhost:8080/"
        },
        "id": "t_H8Zf3Vs3-Z",
        "outputId": "fa681311-f529-416a-f96a-26da94181a60"
      },
      "execution_count": null,
      "outputs": [
        {
          "output_type": "stream",
          "name": "stdout",
          "text": [
            "Enter the value to be searched= 4\n",
            "List before operation=  [2, 4, 12, 9, 7, 4]\n",
            "List after operation= [2, 16, 12, 9, 7, 4]\n"
          ]
        }
      ]
    },
    {
      "cell_type": "code",
      "source": [
        "#remove all occurence of a specific item from a list\n",
        "list1=[3, 2, 8, 6, 5, 2, 4, 3, 2]\n",
        "print(\"The list before operation=\", list1)\n",
        "x=int(input(\"Enter the item to be searched: \"))\n",
        "\n",
        "for i in list1:\n",
        "  if i==x:\n",
        "    list1.remove(i)\n",
        "\n",
        "print(\"List after operation=\", list1)\n"
      ],
      "metadata": {
        "id": "HInVaOZ1EQqN"
      },
      "execution_count": null,
      "outputs": []
    }
  ]
}