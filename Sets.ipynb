{
  "nbformat": 4,
  "nbformat_minor": 0,
  "metadata": {
    "colab": {
      "provenance": [],
      "authorship_tag": "ABX9TyNelGxCS+RrDoODofb3pdaE",
      "include_colab_link": true
    },
    "kernelspec": {
      "name": "python3",
      "display_name": "Python 3"
    },
    "language_info": {
      "name": "python"
    }
  },
  "cells": [
    {
      "cell_type": "markdown",
      "metadata": {
        "id": "view-in-github",
        "colab_type": "text"
      },
      "source": [
        "<a href=\"https://colab.research.google.com/github/gangakailas/PythonBasics/blob/main/Sets.ipynb\" target=\"_parent\"><img src=\"https://colab.research.google.com/assets/colab-badge.svg\" alt=\"Open In Colab\"/></a>"
      ]
    },
    {
      "cell_type": "code",
      "execution_count": null,
      "metadata": {
        "colab": {
          "base_uri": "https://localhost:8080/"
        },
        "id": "mRAeR7hWJ5zs",
        "outputId": "d2c2dd4f-0fde-443a-b65c-c76e28e82fd5"
      },
      "outputs": [
        {
          "output_type": "stream",
          "name": "stdout",
          "text": [
            "Before elimination=  {'Thanmaya', 'Ganga', 'Neha', 'Lana', 'Swani', 'Sutharya'}\n",
            "After elimination=  {'Ganga', 'Neha', 'Lana', 'Swani', 'Sutharya'}\n"
          ]
        }
      ],
      "source": [
        "#Remove an item from a set if it is present\n",
        "s1={\"Sutharya\",\"Lana\", \"Swani\", \"Neha\", \"Thanmaya\", \"Ganga\"}\n",
        "print(\"Before elimination= \", s1)\n",
        "if \"Thanmaya\" in s1:\n",
        "  s1.remove(\"Thanmaya\")\n",
        "print(\"After elimination= \", s1)"
      ]
    },
    {
      "cell_type": "code",
      "source": [
        "#create intersection of sets\n",
        "A={2, 4, 8, 9}\n",
        "B={6, 1, 8, 2, 0}\n",
        "print(\"set 1= \", A)\n",
        "print(\"set 2= \", B)\n",
        "\n",
        "print(A.intersection(B))"
      ],
      "metadata": {
        "id": "l4dPZ7RMTYoo",
        "colab": {
          "base_uri": "https://localhost:8080/"
        },
        "outputId": "555b045f-d75d-4f8a-9344-cc54a28ef736"
      },
      "execution_count": null,
      "outputs": [
        {
          "output_type": "stream",
          "name": "stdout",
          "text": [
            "set 1=  {8, 9, 2, 4}\n",
            "set 2=  {0, 1, 2, 6, 8}\n",
            "{8, 2}\n"
          ]
        }
      ]
    },
    {
      "cell_type": "code",
      "source": [
        "#Finding maximum and minimum values in a set\n",
        "C={9, 7, 11, 40, 32, 5}\n",
        "s=min(C)\n",
        "l=max(C)\n",
        "print(\"Smallest value in set= \", s)\n",
        "print(\"Largest value in set= \", l)\n"
      ],
      "metadata": {
        "colab": {
          "base_uri": "https://localhost:8080/"
        },
        "id": "817sL7IPesZi",
        "outputId": "a895df45-11ee-4b06-b72b-780740468a7b"
      },
      "execution_count": null,
      "outputs": [
        {
          "output_type": "stream",
          "name": "stdout",
          "text": [
            "Smallest value in set=  5\n",
            "Largest value in set=  40\n"
          ]
        }
      ]
    },
    {
      "cell_type": "code",
      "source": [
        "#Check if two sets have no elements in common\n",
        "D={'apple', 'mango', 'pineapple', 'coconut'}\n",
        "E={'mango', 'guava', 'watermelon', 'strawberry', 'coconut'}\n",
        "\n",
        "if (D.intersection(E))==set():\n",
        "  print(\"No common elements\")\n",
        "else:\n",
        "  print(\"There are common elements= \", D.intersection(E))"
      ],
      "metadata": {
        "colab": {
          "base_uri": "https://localhost:8080/"
        },
        "id": "HzXZimSngRe8",
        "outputId": "9d6efb56-8a4b-45e8-a0ad-dfeecca53cba"
      },
      "execution_count": null,
      "outputs": [
        {
          "output_type": "stream",
          "name": "stdout",
          "text": [
            "There are common elements=  {'coconut', 'mango'}\n"
          ]
        }
      ]
    },
    {
      "cell_type": "code",
      "source": [
        "#creating user-inputted set\n",
        "set1=set()\n",
        "\n",
        "n=int(input(\"Enter number of elements= \"))\n",
        "for i in range(n):\n",
        "  value=int(input(\"Enter value= \"))\n",
        "  set1.add(value)\n",
        "\n",
        "print(set1)"
      ],
      "metadata": {
        "colab": {
          "base_uri": "https://localhost:8080/"
        },
        "id": "uha926fErRU0",
        "outputId": "db26f497-ec5a-4e37-b019-d7af119dafdd"
      },
      "execution_count": null,
      "outputs": [
        {
          "output_type": "stream",
          "name": "stdout",
          "text": [
            "Enter number of elements= 5\n",
            "Enter value= 1\n",
            "Enter value= 2\n",
            "Enter value= 3\n",
            "Enter value= 4\n",
            "Enter value= 5\n",
            "{1, 2, 3, 4, 5}\n"
          ]
        }
      ]
    }
  ]
}