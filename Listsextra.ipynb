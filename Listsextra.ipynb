{
  "nbformat": 4,
  "nbformat_minor": 0,
  "metadata": {
    "colab": {
      "provenance": [],
      "authorship_tag": "ABX9TyPQuYrjoenTz2EAYjasPIUv",
      "include_colab_link": true
    },
    "kernelspec": {
      "name": "python3",
      "display_name": "Python 3"
    },
    "language_info": {
      "name": "python"
    }
  },
  "cells": [
    {
      "cell_type": "markdown",
      "metadata": {
        "id": "view-in-github",
        "colab_type": "text"
      },
      "source": [
        "<a href=\"https://colab.research.google.com/github/gangakailas/PythonBasics/blob/main/Listsextra.ipynb\" target=\"_parent\"><img src=\"https://colab.research.google.com/assets/colab-badge.svg\" alt=\"Open In Colab\"/></a>"
      ]
    },
    {
      "cell_type": "code",
      "execution_count": null,
      "metadata": {
        "colab": {
          "base_uri": "https://localhost:8080/"
        },
        "id": "qOmdIvhsDenN",
        "outputId": "81ef91f5-dc1d-4f09-8f71-609fddc7c7ce"
      },
      "outputs": [
        {
          "output_type": "stream",
          "name": "stdout",
          "text": [
            "[1, 4, 9, 16]\n"
          ]
        }
      ],
      "source": [
        "#creating squared list\n",
        "\n",
        "x=[1,2,3,4]\n",
        "x2=[]\n",
        "for i in x:\n",
        "  x2.append(i*i)\n",
        "print(x2)"
      ]
    },
    {
      "cell_type": "code",
      "source": [
        "x=[1,2,3,4]\n",
        "x2=[]\n",
        "for i in x:\n",
        "  if i%2==0:\n",
        "    x2.append(i*i)\n",
        "  else:\n",
        "    x2.append(i)\n",
        "print(x2)"
      ],
      "metadata": {
        "colab": {
          "base_uri": "https://localhost:8080/"
        },
        "id": "BmNdEVmXEVIm",
        "outputId": "d990eb5c-0dd1-41a9-d4cc-e2634d5373d1"
      },
      "execution_count": null,
      "outputs": [
        {
          "output_type": "stream",
          "name": "stdout",
          "text": [
            "[1, 4, 3, 16]\n"
          ]
        }
      ]
    },
    {
      "cell_type": "code",
      "source": [
        "x2=[each*each if each%2==0 else each**3 if each%3==0 else each for each in x]\n",
        "x2\n"
      ],
      "metadata": {
        "colab": {
          "base_uri": "https://localhost:8080/"
        },
        "id": "zxZvw8h4IpIP",
        "outputId": "686f5743-864c-463c-d130-fcf6c80368ac"
      },
      "execution_count": null,
      "outputs": [
        {
          "output_type": "execute_result",
          "data": {
            "text/plain": [
              "[1, 4, 27, 16]"
            ]
          },
          "metadata": {},
          "execution_count": 12
        }
      ]
    }
  ]
}