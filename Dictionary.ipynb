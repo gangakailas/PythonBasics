{
  "nbformat": 4,
  "nbformat_minor": 0,
  "metadata": {
    "colab": {
      "provenance": [],
      "authorship_tag": "ABX9TyPc0X5PauDofwNyvQxltTVd",
      "include_colab_link": true
    },
    "kernelspec": {
      "name": "python3",
      "display_name": "Python 3"
    },
    "language_info": {
      "name": "python"
    }
  },
  "cells": [
    {
      "cell_type": "markdown",
      "metadata": {
        "id": "view-in-github",
        "colab_type": "text"
      },
      "source": [
        "<a href=\"https://colab.research.google.com/github/gangakailas/PythonBasics/blob/main/Dictionary.ipynb\" target=\"_parent\"><img src=\"https://colab.research.google.com/assets/colab-badge.svg\" alt=\"Open In Colab\"/></a>"
      ]
    },
    {
      "cell_type": "code",
      "execution_count": null,
      "metadata": {
        "id": "eLTzQJ2AkwyS",
        "colab": {
          "base_uri": "https://localhost:8080/"
        },
        "outputId": "085a0413-f5c9-4fa9-b028-5492969a92dc"
      },
      "outputs": [
        {
          "output_type": "stream",
          "name": "stdout",
          "text": [
            "{1: 'aisha', 3: 'greeshma', 4: 'josh', 2: 'zlatan'}\n"
          ]
        }
      ],
      "source": [
        "#sort a dictionary by value\n",
        "dict1={1:'aisha', 2:'zlatan', 3:'greeshma', 4:'josh'}\n",
        "sort_val=sorted(dict1.values())\n",
        "sort_dict={}\n",
        "\n",
        "for i in sort_val:\n",
        "  for j in dict1:\n",
        "    if dict1[j]==i:\n",
        "      sort_dict[j]=i\n",
        "\n",
        "print(sort_dict)"
      ]
    },
    {
      "cell_type": "code",
      "source": [
        "#creating user-inputted dictionary\n",
        "dict2={}\n",
        "\n",
        "num=int(input(\"Enter number of elements= \"))\n",
        "for i in range(num):\n",
        "  key=int(input(\"Enter key= \"))\n",
        "  value=int(input(\"Enter corresponding values= \"))\n",
        "  dict2[key]=value;\n",
        "\n",
        "print(dict2)\n"
      ],
      "metadata": {
        "id": "AAfVQw5is6yh",
        "colab": {
          "base_uri": "https://localhost:8080/"
        },
        "outputId": "ac7ef057-9f78-4ed4-ce20-1094d161eb04"
      },
      "execution_count": null,
      "outputs": [
        {
          "output_type": "stream",
          "name": "stdout",
          "text": [
            "Enter number of elements= 3\n",
            "Enter key= 1\n",
            "Enter corresponding values= 1\n",
            "Enter key= 2\n",
            "Enter corresponding values= 4\n",
            "Enter key= 3\n",
            "Enter corresponding values= 9\n",
            "{1: 1, 2: 4, 3: 9}\n",
            "{}\n"
          ]
        }
      ]
    },
    {
      "cell_type": "code",
      "source": [
        "#concatenate 2 dictionaries to create a new one\n",
        "dict1={1:'a', 2:'b', 3:'c'}\n",
        "dict2={4:'d', 5:'e', 6:'f', 7:'g'}\n",
        "dict1.update(dict2)\n",
        "\n",
        "print(dict1)\n",
        "dict1.items()\n",
        "\n"
      ],
      "metadata": {
        "id": "J8Oe9F55Go4r",
        "colab": {
          "base_uri": "https://localhost:8080/"
        },
        "outputId": "f0707a93-8396-4627-d305-894de9826777"
      },
      "execution_count": null,
      "outputs": [
        {
          "output_type": "stream",
          "name": "stdout",
          "text": [
            "{1: 'a', 2: 'b', 3: 'c', 4: 'd', 5: 'e', 6: 'f', 7: 'g'}\n"
          ]
        },
        {
          "output_type": "execute_result",
          "data": {
            "text/plain": [
              "dict_items([(1, 'a'), (2, 'b'), (3, 'c'), (4, 'd'), (5, 'e'), (6, 'f'), (7, 'g')])"
            ]
          },
          "metadata": {},
          "execution_count": 8
        }
      ]
    },
    {
      "cell_type": "code",
      "source": [
        "#print a dictionary where the keys are in the range of 10 to 20, and values are the squares of the keys\n",
        "dict1={}\n",
        "\n",
        "for i in range(10,21):\n",
        "  dict1[i]=i*i\n",
        "\n",
        "print(dict1)"
      ],
      "metadata": {
        "colab": {
          "base_uri": "https://localhost:8080/"
        },
        "id": "DudYUR1wLP4r",
        "outputId": "2f7f6a13-16ad-45c7-c059-1f7346f2f04d"
      },
      "execution_count": null,
      "outputs": [
        {
          "output_type": "stream",
          "name": "stdout",
          "text": [
            "{10: 100, 11: 121, 12: 144, 13: 169, 14: 196, 15: 225, 16: 256, 17: 289, 18: 324, 19: 361, 20: 400}\n"
          ]
        }
      ]
    },
    {
      "cell_type": "code",
      "source": [
        "#remove duplicates from a dictionary\n",
        "dict1={1:'apple', 2:'pineapple', 3:'mango', 4:'apple'}\n",
        "dict2={}\n",
        "list1=[]\n",
        "\n",
        "for key, val in dict1.items():\n",
        "  if val not in list1:\n",
        "    list1.append(val)\n",
        "    dict2[key]=val\n",
        "\n",
        "dict1.clear()\n",
        "dict1.update(dict2)\n",
        "print(dict1)"
      ],
      "metadata": {
        "colab": {
          "base_uri": "https://localhost:8080/"
        },
        "id": "ojcRmCMSMJ4y",
        "outputId": "ad58ce48-ea84-4bc3-8a2f-032747a475f2"
      },
      "execution_count": null,
      "outputs": [
        {
          "output_type": "stream",
          "name": "stdout",
          "text": [
            "{1: 'apple', 2: 'pineapple', 3: 'mango'}\n"
          ]
        }
      ]
    },
    {
      "cell_type": "code",
      "source": [
        "#create a dictionary from a string\n",
        "string1=input(\"Enter your string= \")\n",
        "dict1={}\n",
        "for i in string1:\n",
        "  if i not in dict1:\n",
        "    dict1[i]=string1.count(i)\n",
        "\n",
        "print(\"The string= \", string1)\n",
        "print(\"The final dictionary= \", dict1)\n"
      ],
      "metadata": {
        "colab": {
          "base_uri": "https://localhost:8080/"
        },
        "id": "3QeD5XiJ-4Zx",
        "outputId": "c56fabdc-432e-49c1-faa3-b1f5b72f97dd"
      },
      "execution_count": null,
      "outputs": [
        {
          "output_type": "stream",
          "name": "stdout",
          "text": [
            "Enter your string= hellotoallmyfriends\n",
            "The string=  hellotoallmyfriends\n",
            "The final dictionary=  {'h': 1, 'e': 2, 'l': 4, 'o': 2, 't': 1, 'a': 1, 'm': 1, 'y': 1, 'f': 1, 'r': 1, 'i': 1, 'n': 1, 'd': 1, 's': 1}\n"
          ]
        }
      ]
    }
  ]
}