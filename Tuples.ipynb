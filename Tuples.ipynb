{
  "nbformat": 4,
  "nbformat_minor": 0,
  "metadata": {
    "colab": {
      "provenance": [],
      "authorship_tag": "ABX9TyN2tlp/78ppsTpV7++ni73r",
      "include_colab_link": true
    },
    "kernelspec": {
      "name": "python3",
      "display_name": "Python 3"
    },
    "language_info": {
      "name": "python"
    }
  },
  "cells": [
    {
      "cell_type": "markdown",
      "metadata": {
        "id": "view-in-github",
        "colab_type": "text"
      },
      "source": [
        "<a href=\"https://colab.research.google.com/github/gangakailas/PythonBasics/blob/main/Tuples.ipynb\" target=\"_parent\"><img src=\"https://colab.research.google.com/assets/colab-badge.svg\" alt=\"Open In Colab\"/></a>"
      ]
    },
    {
      "cell_type": "code",
      "execution_count": null,
      "metadata": {
        "colab": {
          "base_uri": "https://localhost:8080/"
        },
        "id": "-63ryDvJ8BCc",
        "outputId": "bda71477-16a8-4624-91bb-5b8cfedf297f"
      },
      "outputs": [
        {
          "output_type": "stream",
          "name": "stdout",
          "text": [
            "The initial tuple=  (123, 'google', '321', 37, 'music')\n",
            "The revrsed tuple=  ('music', 37, '321', 'google', 123)\n"
          ]
        }
      ],
      "source": [
        "#create a tuple with different data types and reverse it\n",
        "\n",
        "t1=(123, \"google\", \"321\", 37, \"music\")\n",
        "print(\"The initial tuple= \", t1)\n",
        "t2=t1[::-1]\n",
        "print(\"The revrsed tuple= \",t2)"
      ]
    },
    {
      "cell_type": "code",
      "source": [
        "#Count the number of occurence of an item from a tuple\n",
        "t1=(\"hell\", 37, \"hell\", 12, \"hello\", 12, 12)\n",
        "print(\"The tuple= \",t1)\n",
        "num=t1.count(12)\n",
        "print(\"Count= \", num)"
      ],
      "metadata": {
        "colab": {
          "base_uri": "https://localhost:8080/"
        },
        "id": "FYnCc0J0_BkN",
        "outputId": "f356c223-893a-4f6d-95b4-dc90ff14de12"
      },
      "execution_count": null,
      "outputs": [
        {
          "output_type": "stream",
          "name": "stdout",
          "text": [
            "The tuple=  ('hell', 37, 'hell', 12, 'hello', 12, 12)\n",
            "Count=  3\n"
          ]
        }
      ]
    },
    {
      "cell_type": "code",
      "source": [
        "#creating tuple using user input\n",
        "num=int(input(\"Enter number of inputs that you prefer= \"))\n",
        "tup1=()\n",
        "for i in range(num):\n",
        "  val=int(input(\"Enter input= \"))\n",
        "  tup1=tup1+(val,)\n",
        "\n",
        "print(tup1)"
      ],
      "metadata": {
        "colab": {
          "base_uri": "https://localhost:8080/"
        },
        "id": "oG9owGbC_4FT",
        "outputId": "3447f20f-e5a1-4744-b49d-888de4fef8cb"
      },
      "execution_count": null,
      "outputs": [
        {
          "output_type": "stream",
          "name": "stdout",
          "text": [
            "Enter number of inputs that you prefer= 3\n",
            "Enter input= 1\n",
            "Enter input= 2\n",
            "Enter input= 3\n",
            "(1, 2, 3)\n"
          ]
        }
      ]
    },
    {
      "cell_type": "code",
      "source": [
        "#Unpack a tuple into several variables\n",
        "tuple1=(12, \"apple\", \"clouds\", 41, 100, \"guitar\")\n",
        "t1, t2, t3, t4, t5, t6= tuple1\n",
        "print(t1, t2, t3, t4, t5, t6)\n"
      ],
      "metadata": {
        "colab": {
          "base_uri": "https://localhost:8080/"
        },
        "id": "DQtK_ohfCyhm",
        "outputId": "b8257d74-351e-42d1-c982-b2d1bf9ceb43"
      },
      "execution_count": null,
      "outputs": [
        {
          "output_type": "stream",
          "name": "stdout",
          "text": [
            "12 apple clouds 41 100 guitar\n"
          ]
        }
      ]
    },
    {
      "cell_type": "code",
      "source": [
        "#find element-wise sum of two tuple\n",
        "tuple1=(12, 41, 100)\n",
        "tuple2=(11, 43, 96)\n",
        "tuple3=()\n",
        "sum=0\n",
        "for i in range(3):\n",
        "  sum=tuple1[i]+tuple2[i]\n",
        "  tuple3+=(sum,)\n",
        "\n",
        "print(tuple3)"
      ],
      "metadata": {
        "colab": {
          "base_uri": "https://localhost:8080/"
        },
        "id": "9Pt_7DkNFEZX",
        "outputId": "98009fce-d3c8-4afd-a2f4-9ee7448401a0"
      },
      "execution_count": null,
      "outputs": [
        {
          "output_type": "stream",
          "name": "stdout",
          "text": [
            "(23, 84, 196)\n"
          ]
        }
      ]
    },
    {
      "cell_type": "code",
      "source": [
        "#convert a tuple into a dictionary\n",
        "tup1=((1,\"name\"), (2,\"age\"), (3,\"dob\"))\n",
        "d=dict(tup1)\n",
        "print(tup1)\n",
        "print(d)"
      ],
      "metadata": {
        "colab": {
          "base_uri": "https://localhost:8080/"
        },
        "id": "3YwuIYEbFaqV",
        "outputId": "ff13f790-422f-450d-f684-a8f45d54f5b0"
      },
      "execution_count": null,
      "outputs": [
        {
          "output_type": "stream",
          "name": "stdout",
          "text": [
            "((1, 'name'), (2, 'age'), (3, 'dob'))\n",
            "{1: 'name', 2: 'age', 3: 'dob'}\n"
          ]
        }
      ]
    },
    {
      "cell_type": "code",
      "source": [
        "tuple1=(12, 41, 100)\n",
        "print(tuple1[0])\n",
        "print(tuple1[0])\n",
        "print(tuple1[2])"
      ],
      "metadata": {
        "colab": {
          "base_uri": "https://localhost:8080/"
        },
        "id": "ePxQSAkWQMxY",
        "outputId": "342b7608-b5c0-4952-9bb4-de64effab8b1"
      },
      "execution_count": null,
      "outputs": [
        {
          "output_type": "stream",
          "name": "stdout",
          "text": [
            "12\n",
            "12\n",
            "100\n"
          ]
        }
      ]
    }
  ]
}